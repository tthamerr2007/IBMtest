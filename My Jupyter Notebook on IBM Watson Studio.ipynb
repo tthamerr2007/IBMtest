{
 "cells": [
  {
   "cell_type": "markdown",
   "id": "c54d3a7c",
   "metadata": {},
   "source": [
    "# My Jupyter Notebook on IBM Watson Studio"
   ]
  },
  {
   "cell_type": "markdown",
   "id": "854e9b61",
   "metadata": {},
   "source": [
    "Thamer"
   ]
  },
  {
   "cell_type": "code",
   "execution_count": null,
   "id": "e325166c",
   "metadata": {},
   "outputs": [],
   "source": [
    "engineer"
   ]
  },
  {
   "cell_type": "markdown",
   "id": "8c91c524",
   "metadata": {},
   "source": [
    "I am interested in data science because I like working with data"
   ]
  },
  {
   "cell_type": "markdown",
   "id": "a33af8e9",
   "metadata": {},
   "source": [
    "adding two numbers"
   ]
  },
  {
   "cell_type": "code",
   "execution_count": 2,
   "id": "4e74f80e",
   "metadata": {},
   "outputs": [
    {
     "name": "stdout",
     "output_type": "stream",
     "text": [
      "2\n",
      "***\n",
      "- - - \n",
      "1 . banana\n",
      "2 . apple\n",
      "3 . pear\n",
      "4 . peach\n",
      "https://google.com/\n"
     ]
    }
   ],
   "source": [
    "print(1 + 1)\n",
    "print( '***' )\n",
    "print('- - - ')\n",
    "\n",
    "fruit = ['banana', 'apple', 'pear', 'peach']\n",
    "for i, item in enumerate(fruit,1):\n",
    "    print(i, '. ' + item)\n",
    "    \n",
    "print(\"https://google.com/\")"
   ]
  },
  {
   "cell_type": "code",
   "execution_count": null,
   "id": "76e0ad84",
   "metadata": {},
   "outputs": [],
   "source": []
  }
 ],
 "metadata": {
  "kernelspec": {
   "display_name": "Python 3 (ipykernel)",
   "language": "python",
   "name": "python3"
  },
  "language_info": {
   "codemirror_mode": {
    "name": "ipython",
    "version": 3
   },
   "file_extension": ".py",
   "mimetype": "text/x-python",
   "name": "python",
   "nbconvert_exporter": "python",
   "pygments_lexer": "ipython3",
   "version": "3.9.12"
  }
 },
 "nbformat": 4,
 "nbformat_minor": 5
}
